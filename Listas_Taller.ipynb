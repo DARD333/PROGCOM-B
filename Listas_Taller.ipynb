{
  "nbformat": 4,
  "nbformat_minor": 0,
  "metadata": {
    "colab": {
      "provenance": []
    },
    "kernelspec": {
      "name": "python3",
      "display_name": "Python 3"
    },
    "language_info": {
      "name": "python"
    }
  },
  "cells": [
    {
      "cell_type": "code",
      "source": [
        "#1.Crear una lista con los cuadrados de los numeros del 1 al 10.\n",
        "cuadrados = []\n",
        "for i in range(1, 11):\n",
        "    cuadrados.append(i**2)\n",
        "print(cuadrados)"
      ],
      "metadata": {
        "colab": {
          "base_uri": "https://localhost:8080/"
        },
        "id": "Bdb_bEwH96kj",
        "outputId": "6607eb2f-75de-4a5e-fa44-35e39ab6f84a"
      },
      "execution_count": 3,
      "outputs": [
        {
          "output_type": "stream",
          "name": "stdout",
          "text": [
            "[1, 4, 9, 16, 25, 36, 49, 64, 81, 100]\n"
          ]
        }
      ]
    },
    {
      "cell_type": "code",
      "source": [
        "#2.Obtener una lista con los numeros pares del 0 al 20.\n",
        "NumerosPares = [i for i in range(1,21) if i%2 ==0]\n",
        "NumerosPares"
      ],
      "metadata": {
        "colab": {
          "base_uri": "https://localhost:8080/"
        },
        "id": "rvIS_h6O-l_5",
        "outputId": "4c242a2f-c4de-466c-cee8-91901f07aef3"
      },
      "execution_count": 4,
      "outputs": [
        {
          "output_type": "execute_result",
          "data": {
            "text/plain": [
              "[2, 4, 6, 8, 10, 12, 14, 16, 18, 20]"
            ]
          },
          "metadata": {},
          "execution_count": 4
        }
      ]
    },
    {
      "cell_type": "code",
      "source": [
        "#3.Crear una lista con el doble de cada numero delo 1 al 5.\n",
        "NumerosDobles = [i * 2 for i in range(1,6)]\n",
        "NumerosDobles"
      ],
      "metadata": {
        "colab": {
          "base_uri": "https://localhost:8080/"
        },
        "id": "eTvGmPyA_UkZ",
        "outputId": "352e6c0c-163e-4d77-ef73-41a3bca68262"
      },
      "execution_count": 5,
      "outputs": [
        {
          "output_type": "execute_result",
          "data": {
            "text/plain": [
              "[2, 4, 6, 8, 10]"
            ]
          },
          "metadata": {},
          "execution_count": 5
        }
      ]
    },
    {
      "cell_type": "code",
      "source": [
        "#4.De la palabra \"programacion\", obtener solo las vocales.\n",
        "palabra = \"programacion\"\n",
        "vocales = [letra for letra in palabra if letra in \"a,e,i,o,u\"]\n",
        "vocales"
      ],
      "metadata": {
        "colab": {
          "base_uri": "https://localhost:8080/"
        },
        "id": "BvfGy3No_1Ha",
        "outputId": "d3375b3a-c233-4ab8-94f1-710a62b73719"
      },
      "execution_count": 6,
      "outputs": [
        {
          "output_type": "execute_result",
          "data": {
            "text/plain": [
              "['o', 'a', 'a', 'i', 'o']"
            ]
          },
          "metadata": {},
          "execution_count": 6
        }
      ]
    },
    {
      "cell_type": "code",
      "source": [
        "#5.Dada la lista [\"python\", \"java\", \"c++\"], obtener otra lista con las palabras en mayusculas.\n",
        "Programas = [\"python\", \"java\", \"c++\"]\n",
        "Mayusculas = [i.upper() for i in Programas]\n",
        "Mayusculas"
      ],
      "metadata": {
        "colab": {
          "base_uri": "https://localhost:8080/"
        },
        "id": "-7UHRhblBVmD",
        "outputId": "ecd78280-2960-47dd-e084-7afb106ac4c1"
      },
      "execution_count": 7,
      "outputs": [
        {
          "output_type": "execute_result",
          "data": {
            "text/plain": [
              "['PYTHON', 'JAVA', 'C++']"
            ]
          },
          "metadata": {},
          "execution_count": 7
        }
      ]
    },
    {
      "cell_type": "code",
      "source": [
        "#6.Crear una lista con \"par\" o \"impar\" para los numeros del 1 al 10.\n",
        "ListaNumeros = [1,2,3,4,5,6,7,8,9,10]\n",
        "clasificacion = [(\"par\",x) if x%2==0 else (\"impar\",x) for x in ListaNumeros]\n",
        "clasificacion"
      ],
      "metadata": {
        "colab": {
          "base_uri": "https://localhost:8080/"
        },
        "id": "mB1R4CYzbJqv",
        "outputId": "8c025c3a-712d-4991-a188-50ab88243f22"
      },
      "execution_count": 1,
      "outputs": [
        {
          "output_type": "execute_result",
          "data": {
            "text/plain": [
              "[('impar', 1),\n",
              " ('par', 2),\n",
              " ('impar', 3),\n",
              " ('par', 4),\n",
              " ('impar', 5),\n",
              " ('par', 6),\n",
              " ('impar', 7),\n",
              " ('par', 8),\n",
              " ('impar', 9),\n",
              " ('par', 10)]"
            ]
          },
          "metadata": {},
          "execution_count": 1
        }
      ]
    },
    {
      "cell_type": "code",
      "source": [
        "#7.Generar una lista de tuplas con el numero y su cuadrado del 1 al 5.\n",
        "ListaNumeros =[1,2,3,4,5]\n",
        "NumerosCuadrados = [(x, \"su cuadrado es\", x**2) for x in ListaNumeros]\n",
        "NumerosCuadrados"
      ],
      "metadata": {
        "colab": {
          "base_uri": "https://localhost:8080/"
        },
        "id": "1WCXviT0cM0J",
        "outputId": "c4128a2b-35e3-4f8c-f348-cb08176da016"
      },
      "execution_count": 3,
      "outputs": [
        {
          "output_type": "execute_result",
          "data": {
            "text/plain": [
              "[(1, 'su cuadrado es', 1),\n",
              " (2, 'su cuadrado es', 4),\n",
              " (3, 'su cuadrado es', 9),\n",
              " (4, 'su cuadrado es', 16),\n",
              " (5, 'su cuadrado es', 25)]"
            ]
          },
          "metadata": {},
          "execution_count": 3
        }
      ]
    },
    {
      "cell_type": "code",
      "source": [
        "#8.Crear una lista con todas las combinaciones de letras en [\"a\",\"b\"] y numeros en [1,2,3]\n",
        "Letras = [\"a\",\"b\"]\n",
        "Numeros = [1,2,3]\n",
        "Combinados = [(letra,Numero) for letra in Letras for Numero in Numeros]\n",
        "Combinados"
      ],
      "metadata": {
        "colab": {
          "base_uri": "https://localhost:8080/"
        },
        "id": "ZpjxiWVcdCWV",
        "outputId": "d9e34a66-5def-4fee-fd81-1d9d3acba284"
      },
      "execution_count": 4,
      "outputs": [
        {
          "output_type": "execute_result",
          "data": {
            "text/plain": [
              "[('a', 1), ('a', 2), ('a', 3), ('b', 1), ('b', 2), ('b', 3)]"
            ]
          },
          "metadata": {},
          "execution_count": 4
        }
      ]
    },
    {
      "cell_type": "code",
      "source": [
        "#9.De la lista [\"sol\", \"estrella\", \"mar\", \"planeta\"], obtener solo las palabras con mas de 4 letras.\n",
        "palabras =[\"sol\", \"estrella\", \"mar\", \"planeta\"]\n",
        "filtro = [i for i in palabras if len(i)<4]\n",
        "filtro"
      ],
      "metadata": {
        "colab": {
          "base_uri": "https://localhost:8080/"
        },
        "id": "mM6lYaEmficR",
        "outputId": "8627e6ee-ab12-4b0b-ba50-3aa9430665dd"
      },
      "execution_count": 10,
      "outputs": [
        {
          "output_type": "execute_result",
          "data": {
            "text/plain": [
              "['sol', 'mar']"
            ]
          },
          "metadata": {},
          "execution_count": 10
        }
      ]
    }
  ]
}