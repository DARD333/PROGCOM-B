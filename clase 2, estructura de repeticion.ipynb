{
  "nbformat": 4,
  "nbformat_minor": 0,
  "metadata": {
    "colab": {
      "provenance": []
    },
    "kernelspec": {
      "name": "python3",
      "display_name": "Python 3"
    },
    "language_info": {
      "name": "python"
    }
  },
  "cells": [
    {
      "cell_type": "code",
      "execution_count": null,
      "metadata": {
        "id": "v0d2-_PwOgyW"
      },
      "outputs": [],
      "source": []
    },
    {
      "cell_type": "markdown",
      "source": [
        "\n",
        "#Estructura de repeticion\n",
        "se emplea cunado se desea repetir una parte del codigo, dada una condicion\n"
      ],
      "metadata": {
        "id": "WLIWYHhVPnQM"
      }
    },
    {
      "cell_type": "markdown",
      "source": [
        "## lista\n",
        "son un conjunto de tipo de datos indexado, separado por comas, y encerrado entre [].\n",
        "* todos los elemtos de una lista, se empiezan a contar desde  cero *(0)*\n",
        "##creacion de listas\n",
        "* forma general: lista=[]\n",
        "* forma manuel: animales=[\"gato\", \"perro\", zorro, \"oso\"]\n",
        "* por conversacion: numero=list(range(10))"
      ],
      "metadata": {
        "id": "xOdPantfPrVz"
      }
    },
    {
      "cell_type": "markdown",
      "source": [],
      "metadata": {
        "id": "4eeeLKWTPvBT"
      }
    },
    {
      "cell_type": "code",
      "source": [
        "lista=[]\n"
      ],
      "metadata": {
        "id": "5eoRJEE7QLDz"
      },
      "execution_count": null,
      "outputs": []
    },
    {
      "cell_type": "code",
      "source": [
        "type(lista)"
      ],
      "metadata": {
        "id": "OlxvEfFxQMIr"
      },
      "execution_count": null,
      "outputs": []
    },
    {
      "cell_type": "code",
      "source": [
        "zorro=(1,2,3,4)\n",
        "animales=[\"gato\",\"perro\",zorro,\"oso\"]\n",
        "animales"
      ],
      "metadata": {
        "id": "CtQO5QVuQOUL"
      },
      "execution_count": null,
      "outputs": []
    },
    {
      "cell_type": "code",
      "source": [
        "type(zorro)"
      ],
      "metadata": {
        "id": "PyCUxqCVQR2b"
      },
      "execution_count": null,
      "outputs": []
    },
    {
      "cell_type": "code",
      "source": [
        "numero=list(range(10))\n",
        "numero"
      ],
      "metadata": {
        "id": "1Obh3k5LQUvb"
      },
      "execution_count": null,
      "outputs": []
    },
    {
      "cell_type": "code",
      "source": [
        "type(range(10))"
      ],
      "metadata": {
        "id": "FKuX5sGrQW5D"
      },
      "execution_count": null,
      "outputs": []
    },
    {
      "cell_type": "code",
      "source": [
        "range(10)"
      ],
      "metadata": {
        "id": "sCRJgGzEQZJj"
      },
      "execution_count": null,
      "outputs": []
    },
    {
      "cell_type": "markdown",
      "source": [
        "##Estrutura Para For\n",
        "\n",
        "se usa cuando\n",
        "* se sabe cauantas veces se repite una accion\n",
        "* esta compuesta por un cotador y una codicion\n",
        "* Cotador : identifica cunata veces se va repetir el blucle y con que frecuencia\n",
        "*  condicion : evalua cuando se detiene\n",
        "\n",
        "\n",
        "\n",
        "Python\n",
        "\n",
        "for variable in range ( vi, vf+1, paso ):\n",
        "  aqui se repite parte del codigo.\n",
        "Donde\n",
        "1. vi: condicion inicial. donde arranco a contar\n",
        "2. vf+1: condicion final. donde dejo cotar+1\n",
        "3. paso: freencia de conteo\n",
        "\n",
        "for para recorrido de lista\n",
        "floar=[\"amapola\", \"rosa\", \"tolipan\", \"orquidea\"]\n",
        "* es para va a iterar tantas veces como elementos tenga la lista\n",
        "\n",
        "* varialbe dentro del para, toma como el valor cada elemeto de la lista\n",
        "\n",
        "\n",
        "for variable in lista :\n",
        "variable"
      ],
      "metadata": {
        "id": "t3ybHcW4Qhqy"
      }
    },
    {
      "cell_type": "code",
      "source": [
        "##creando una lista de nombre flor\n",
        "flor=[\"amapola\", \"rosa\", \"tolipan\", \"orquidea\"]\n",
        "for rosa in flor:\n",
        "    print(rosa)\n",
        "    if rosa in flor:\n",
        "      print(rosa)\n",
        "      if rosa==\"tulipan\":\n",
        "        break#rompe la interacion"
      ],
      "metadata": {
        "id": "bSJ8vJCcQi1b"
      },
      "execution_count": null,
      "outputs": []
    },
    {
      "cell_type": "code",
      "source": [
        "name=[]\n",
        "for nombre in range(5):\n",
        "    name.append(input(\"ingrese su nombre \"))\n"
      ],
      "metadata": {
        "colab": {
          "base_uri": "https://localhost:8080/",
          "height": 321
        },
        "id": "mUhh37_0RJly",
        "outputId": "4fb85466-54e7-4861-f304-34211af31be5"
      },
      "execution_count": 1,
      "outputs": [
        {
          "output_type": "error",
          "ename": "KeyboardInterrupt",
          "evalue": "Interrupted by user",
          "traceback": [
            "\u001b[0;31m---------------------------------------------------------------------------\u001b[0m",
            "\u001b[0;31mKeyboardInterrupt\u001b[0m                         Traceback (most recent call last)",
            "\u001b[0;32m/tmp/ipython-input-507102732.py\u001b[0m in \u001b[0;36m<cell line: 0>\u001b[0;34m()\u001b[0m\n\u001b[1;32m      1\u001b[0m \u001b[0mname\u001b[0m\u001b[0;34m=\u001b[0m\u001b[0;34m[\u001b[0m\u001b[0;34m]\u001b[0m\u001b[0;34m\u001b[0m\u001b[0;34m\u001b[0m\u001b[0m\n\u001b[1;32m      2\u001b[0m \u001b[0;32mfor\u001b[0m \u001b[0mnombre\u001b[0m \u001b[0;32min\u001b[0m \u001b[0mrange\u001b[0m\u001b[0;34m(\u001b[0m\u001b[0;36m5\u001b[0m\u001b[0;34m)\u001b[0m\u001b[0;34m:\u001b[0m\u001b[0;34m\u001b[0m\u001b[0;34m\u001b[0m\u001b[0m\n\u001b[0;32m----> 3\u001b[0;31m     \u001b[0mname\u001b[0m\u001b[0;34m.\u001b[0m\u001b[0mappend\u001b[0m\u001b[0;34m(\u001b[0m\u001b[0minput\u001b[0m\u001b[0;34m(\u001b[0m\u001b[0;34m\"ingrese su nombre \"\u001b[0m\u001b[0;34m)\u001b[0m\u001b[0;34m)\u001b[0m\u001b[0;34m\u001b[0m\u001b[0;34m\u001b[0m\u001b[0m\n\u001b[0m",
            "\u001b[0;32m/usr/local/lib/python3.12/dist-packages/ipykernel/kernelbase.py\u001b[0m in \u001b[0;36mraw_input\u001b[0;34m(self, prompt)\u001b[0m\n\u001b[1;32m   1175\u001b[0m                 \u001b[0;34m\"raw_input was called, but this frontend does not support input requests.\"\u001b[0m\u001b[0;34m\u001b[0m\u001b[0;34m\u001b[0m\u001b[0m\n\u001b[1;32m   1176\u001b[0m             )\n\u001b[0;32m-> 1177\u001b[0;31m         return self._input_request(\n\u001b[0m\u001b[1;32m   1178\u001b[0m             \u001b[0mstr\u001b[0m\u001b[0;34m(\u001b[0m\u001b[0mprompt\u001b[0m\u001b[0;34m)\u001b[0m\u001b[0;34m,\u001b[0m\u001b[0;34m\u001b[0m\u001b[0;34m\u001b[0m\u001b[0m\n\u001b[1;32m   1179\u001b[0m             \u001b[0mself\u001b[0m\u001b[0;34m.\u001b[0m\u001b[0m_parent_ident\u001b[0m\u001b[0;34m[\u001b[0m\u001b[0;34m\"shell\"\u001b[0m\u001b[0;34m]\u001b[0m\u001b[0;34m,\u001b[0m\u001b[0;34m\u001b[0m\u001b[0;34m\u001b[0m\u001b[0m\n",
            "\u001b[0;32m/usr/local/lib/python3.12/dist-packages/ipykernel/kernelbase.py\u001b[0m in \u001b[0;36m_input_request\u001b[0;34m(self, prompt, ident, parent, password)\u001b[0m\n\u001b[1;32m   1217\u001b[0m             \u001b[0;32mexcept\u001b[0m \u001b[0mKeyboardInterrupt\u001b[0m\u001b[0;34m:\u001b[0m\u001b[0;34m\u001b[0m\u001b[0;34m\u001b[0m\u001b[0m\n\u001b[1;32m   1218\u001b[0m                 \u001b[0;31m# re-raise KeyboardInterrupt, to truncate traceback\u001b[0m\u001b[0;34m\u001b[0m\u001b[0;34m\u001b[0m\u001b[0m\n\u001b[0;32m-> 1219\u001b[0;31m                 \u001b[0;32mraise\u001b[0m \u001b[0mKeyboardInterrupt\u001b[0m\u001b[0;34m(\u001b[0m\u001b[0;34m\"Interrupted by user\"\u001b[0m\u001b[0;34m)\u001b[0m \u001b[0;32mfrom\u001b[0m \u001b[0;32mNone\u001b[0m\u001b[0;34m\u001b[0m\u001b[0;34m\u001b[0m\u001b[0m\n\u001b[0m\u001b[1;32m   1220\u001b[0m             \u001b[0;32mexcept\u001b[0m \u001b[0mException\u001b[0m\u001b[0;34m:\u001b[0m\u001b[0;34m\u001b[0m\u001b[0;34m\u001b[0m\u001b[0m\n\u001b[1;32m   1221\u001b[0m                 \u001b[0mself\u001b[0m\u001b[0;34m.\u001b[0m\u001b[0mlog\u001b[0m\u001b[0;34m.\u001b[0m\u001b[0mwarning\u001b[0m\u001b[0;34m(\u001b[0m\u001b[0;34m\"Invalid Message:\"\u001b[0m\u001b[0;34m,\u001b[0m \u001b[0mexc_info\u001b[0m\u001b[0;34m=\u001b[0m\u001b[0;32mTrue\u001b[0m\u001b[0;34m)\u001b[0m\u001b[0;34m\u001b[0m\u001b[0;34m\u001b[0m\u001b[0m\n",
            "\u001b[0;31mKeyboardInterrupt\u001b[0m: Interrupted by user"
          ]
        }
      ]
    },
    {
      "cell_type": "markdown",
      "source": [
        "## Estrutura while\n",
        "*se emplea cuando NO SE SABE cuantas veces se debe repetir una accion, pero si se conoce su conodicion de parada (CP).\n",
        "* codicion inicial: donde arranca el ciclo\n",
        "* codicion final (parada): que indica donde se detiene el ciclo\n",
        "* modificar de condicion inicial\n",
        "\n",
        "# Estrutura general del mientras\n",
        "\n",
        "\n",
        "\n",
        "Python\n",
        "\n",
        "Condicion inicial\n",
        "while (condicion==condicil final ):\n",
        "    modificador de condicion inicial\n",
        "modificadores de condicion inicial\n",
        "* banderas: son booleanos\n",
        "* son preguntas\n",
        "* son contadres o acumiladores"
      ],
      "metadata": {
        "id": "_5RuGbG0QqYC"
      }
    },
    {
      "cell_type": "markdown",
      "source": [
        "## 1 Escribe un programa que imprima los números del 1 al 10."
      ],
      "metadata": {
        "id": "kIOv_Z3Wf9-N"
      }
    },
    {
      "cell_type": "code",
      "source": [
        "for mun in range(1,11):\n",
        "  print(mun)"
      ],
      "metadata": {
        "colab": {
          "base_uri": "https://localhost:8080/"
        },
        "id": "k65MrBJHgA3L",
        "outputId": "f69d713c-380b-465c-dded-1259bde8fc5a"
      },
      "execution_count": 11,
      "outputs": [
        {
          "output_type": "stream",
          "name": "stdout",
          "text": [
            "1\n",
            "2\n",
            "3\n",
            "4\n",
            "5\n",
            "6\n",
            "7\n",
            "8\n",
            "9\n",
            "10\n"
          ]
        }
      ]
    },
    {
      "cell_type": "code",
      "source": [
        "lista=list(range(1,11))"
      ],
      "metadata": {
        "id": "VhbixQzJgEWP"
      },
      "execution_count": 13,
      "outputs": []
    },
    {
      "cell_type": "code",
      "source": [
        "lista\n"
      ],
      "metadata": {
        "colab": {
          "base_uri": "https://localhost:8080/"
        },
        "id": "a0X0QlXkgG8U",
        "outputId": "7824a70a-69fd-4997-8c78-7316f175661b"
      },
      "execution_count": 14,
      "outputs": [
        {
          "output_type": "execute_result",
          "data": {
            "text/plain": [
              "[1, 2, 3, 4, 5, 6, 7, 8, 9, 10]"
            ]
          },
          "metadata": {},
          "execution_count": 14
        }
      ]
    },
    {
      "cell_type": "code",
      "source": [
        "for num in lista:\n",
        "  print(num)\n"
      ],
      "metadata": {
        "colab": {
          "base_uri": "https://localhost:8080/"
        },
        "id": "CTyu2uFSgI8b",
        "outputId": "20e4878a-b8d2-4315-9036-cef5e093dcb0"
      },
      "execution_count": 15,
      "outputs": [
        {
          "output_type": "stream",
          "name": "stdout",
          "text": [
            "1\n",
            "2\n",
            "3\n",
            "4\n",
            "5\n",
            "6\n",
            "7\n",
            "8\n",
            "9\n",
            "10\n"
          ]
        }
      ]
    },
    {
      "cell_type": "markdown",
      "source": [
        "Escribe un programa que sume los números del 1 al 100"
      ],
      "metadata": {
        "id": "Ks6ZWoa7g0pz"
      }
    },
    {
      "cell_type": "code",
      "source": [
        "suma=0\n",
        "mun=0\n",
        "for mun in range(1,101):\n",
        "\n",
        "  print(suma,\"+\",mun,\"=\",mun+suma)\n",
        "  suma=suma+mun\n",
        "print(\"resultado final\",suma)\n",
        "print(mun)"
      ],
      "metadata": {
        "colab": {
          "base_uri": "https://localhost:8080/"
        },
        "id": "tePEWJ77g3xT",
        "outputId": "f85f1b75-a762-456c-fffa-c9741274913d"
      },
      "execution_count": 17,
      "outputs": [
        {
          "output_type": "stream",
          "name": "stdout",
          "text": [
            "0 + 1 = 1\n",
            "1 + 2 = 3\n",
            "3 + 3 = 6\n",
            "6 + 4 = 10\n",
            "10 + 5 = 15\n",
            "15 + 6 = 21\n",
            "21 + 7 = 28\n",
            "28 + 8 = 36\n",
            "36 + 9 = 45\n",
            "45 + 10 = 55\n",
            "55 + 11 = 66\n",
            "66 + 12 = 78\n",
            "78 + 13 = 91\n",
            "91 + 14 = 105\n",
            "105 + 15 = 120\n",
            "120 + 16 = 136\n",
            "136 + 17 = 153\n",
            "153 + 18 = 171\n",
            "171 + 19 = 190\n",
            "190 + 20 = 210\n",
            "210 + 21 = 231\n",
            "231 + 22 = 253\n",
            "253 + 23 = 276\n",
            "276 + 24 = 300\n",
            "300 + 25 = 325\n",
            "325 + 26 = 351\n",
            "351 + 27 = 378\n",
            "378 + 28 = 406\n",
            "406 + 29 = 435\n",
            "435 + 30 = 465\n",
            "465 + 31 = 496\n",
            "496 + 32 = 528\n",
            "528 + 33 = 561\n",
            "561 + 34 = 595\n",
            "595 + 35 = 630\n",
            "630 + 36 = 666\n",
            "666 + 37 = 703\n",
            "703 + 38 = 741\n",
            "741 + 39 = 780\n",
            "780 + 40 = 820\n",
            "820 + 41 = 861\n",
            "861 + 42 = 903\n",
            "903 + 43 = 946\n",
            "946 + 44 = 990\n",
            "990 + 45 = 1035\n",
            "1035 + 46 = 1081\n",
            "1081 + 47 = 1128\n",
            "1128 + 48 = 1176\n",
            "1176 + 49 = 1225\n",
            "1225 + 50 = 1275\n",
            "1275 + 51 = 1326\n",
            "1326 + 52 = 1378\n",
            "1378 + 53 = 1431\n",
            "1431 + 54 = 1485\n",
            "1485 + 55 = 1540\n",
            "1540 + 56 = 1596\n",
            "1596 + 57 = 1653\n",
            "1653 + 58 = 1711\n",
            "1711 + 59 = 1770\n",
            "1770 + 60 = 1830\n",
            "1830 + 61 = 1891\n",
            "1891 + 62 = 1953\n",
            "1953 + 63 = 2016\n",
            "2016 + 64 = 2080\n",
            "2080 + 65 = 2145\n",
            "2145 + 66 = 2211\n",
            "2211 + 67 = 2278\n",
            "2278 + 68 = 2346\n",
            "2346 + 69 = 2415\n",
            "2415 + 70 = 2485\n",
            "2485 + 71 = 2556\n",
            "2556 + 72 = 2628\n",
            "2628 + 73 = 2701\n",
            "2701 + 74 = 2775\n",
            "2775 + 75 = 2850\n",
            "2850 + 76 = 2926\n",
            "2926 + 77 = 3003\n",
            "3003 + 78 = 3081\n",
            "3081 + 79 = 3160\n",
            "3160 + 80 = 3240\n",
            "3240 + 81 = 3321\n",
            "3321 + 82 = 3403\n",
            "3403 + 83 = 3486\n",
            "3486 + 84 = 3570\n",
            "3570 + 85 = 3655\n",
            "3655 + 86 = 3741\n",
            "3741 + 87 = 3828\n",
            "3828 + 88 = 3916\n",
            "3916 + 89 = 4005\n",
            "4005 + 90 = 4095\n",
            "4095 + 91 = 4186\n",
            "4186 + 92 = 4278\n",
            "4278 + 93 = 4371\n",
            "4371 + 94 = 4465\n",
            "4465 + 95 = 4560\n",
            "4560 + 96 = 4656\n",
            "4656 + 97 = 4753\n",
            "4753 + 98 = 4851\n",
            "4851 + 99 = 4950\n",
            "4950 + 100 = 5050\n",
            "resultado final 5050\n",
            "100\n"
          ]
        }
      ]
    }
  ]
}