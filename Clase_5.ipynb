{
  "nbformat": 4,
  "nbformat_minor": 0,
  "metadata": {
    "colab": {
      "provenance": [],
      "authorship_tag": "ABX9TyO+BLXwrxw8OvVomtV7Xb9D",
      "include_colab_link": true
    },
    "kernelspec": {
      "name": "python3",
      "display_name": "Python 3"
    },
    "language_info": {
      "name": "python"
    }
  },
  "cells": [
    {
      "cell_type": "markdown",
      "metadata": {
        "id": "view-in-github",
        "colab_type": "text"
      },
      "source": [
        "<a href=\"https://colab.research.google.com/github/DARD333/PROGCOM-B/blob/main/Clase_5.ipynb\" target=\"_parent\"><img src=\"https://colab.research.google.com/assets/colab-badge.svg\" alt=\"Open In Colab\"/></a>"
      ]
    },
    {
      "cell_type": "code",
      "execution_count": null,
      "metadata": {
        "id": "l013Qgym9A9W"
      },
      "outputs": [],
      "source": []
    },
    {
      "cell_type": "markdown",
      "source": [
        "#LISTAS\n",
        "1. Un nuevo tipo de dato\n",
        "2. Es mutable\n",
        "3. Idexación: hay un orden\n",
        "4. Hay un número finito de posiciones\n",
        "\n",
        "sintaxis\n",
        "\n",
        "\n",
        "\n",
        "```\n",
        "nombre_lista=[] #Crear lista vacía\n",
        "flores=[\"margarita\",\"rosa\",\"tulipán\"]\n",
        "```\n",
        "\n",
        "Listas por extensión.\n",
        "\n",
        "\n"
      ],
      "metadata": {
        "id": "JR1mqoHs9C6f"
      }
    },
    {
      "cell_type": "code",
      "source": [
        "1 nu=[]\n",
        "2 for i in range(1,11):\n",
        "3 nu[i]=i"
      ],
      "metadata": {
        "colab": {
          "base_uri": "https://localhost:8080/",
          "height": 106
        },
        "id": "4pn9Dd38-Enw",
        "outputId": "904b371b-8413-4ac7-a1af-dea6388f2863"
      },
      "execution_count": 1,
      "outputs": [
        {
          "output_type": "error",
          "ename": "SyntaxError",
          "evalue": "invalid syntax (ipython-input-1353071202.py, line 1)",
          "traceback": [
            "\u001b[0;36m  File \u001b[0;32m\"/tmp/ipython-input-1353071202.py\"\u001b[0;36m, line \u001b[0;32m1\u001b[0m\n\u001b[0;31m    1 nu=[]\u001b[0m\n\u001b[0m      ^\u001b[0m\n\u001b[0;31mSyntaxError\u001b[0m\u001b[0;31m:\u001b[0m invalid syntax\n"
          ]
        }
      ]
    },
    {
      "cell_type": "code",
      "source": [
        "nu=[]\n",
        "for i in range(1,11):\n",
        "  nu.append(i)"
      ],
      "metadata": {
        "id": "5wsO_Ujz_oCN"
      },
      "execution_count": 22,
      "outputs": []
    },
    {
      "cell_type": "code",
      "source": [
        "nombres=[]\n",
        "for i in range(3):\n",
        "  nombres.append(input(\"ingrese un nombre:\" ))"
      ],
      "metadata": {
        "colab": {
          "base_uri": "https://localhost:8080/"
        },
        "id": "2JKxjAwbAIcE",
        "outputId": "2e86448c-0273-4b75-b63e-e9ea70bdc5d5"
      },
      "execution_count": 23,
      "outputs": [
        {
          "name": "stdout",
          "output_type": "stream",
          "text": [
            "ingrese un nombre:wa\n",
            "ingrese un nombre:ew\n",
            "ingrese un nombre:ow\n"
          ]
        }
      ]
    },
    {
      "cell_type": "code",
      "source": [
        "nombre"
      ],
      "metadata": {
        "colab": {
          "base_uri": "https://localhost:8080/"
        },
        "id": "UhJ2ieL_BzQs",
        "outputId": "f10218da-c91d-477b-e916-1577f8ae7e92"
      },
      "execution_count": 24,
      "outputs": [
        {
          "output_type": "execute_result",
          "data": {
            "text/plain": [
              "['wa', 'ew', 'ow']"
            ]
          },
          "metadata": {},
          "execution_count": 24
        }
      ]
    },
    {
      "cell_type": "markdown",
      "source": [],
      "metadata": {
        "id": "7i29ce_JCEP1"
      }
    },
    {
      "cell_type": "markdown",
      "source": [
        "#Listas de comprensión\n",
        "Son expresiones que generan lista\n",
        "\n",
        "\n",
        "```\n",
        "nombre_lista=[expresión for variable in iteración if condición]\n",
        "```\n",
        "\n"
      ],
      "metadata": {
        "id": "TA3v20CGAWAN"
      }
    },
    {
      "cell_type": "markdown",
      "source": [],
      "metadata": {
        "id": "MMETCY3zAwUM"
      }
    },
    {
      "cell_type": "code",
      "source": [
        "#1. Convertir una lista de oraciones en una lista de palabras\n",
        "oracion=[\"Aquí va una oración\",\"Aquí va otra oración\",\"Aquí va la tercera oración\"]\n",
        "len(oracion)"
      ],
      "metadata": {
        "colab": {
          "base_uri": "https://localhost:8080/"
        },
        "id": "Cp3C22OLAzaE",
        "outputId": "735c93fb-787c-4906-e6a2-914dcef3330b"
      },
      "execution_count": 18,
      "outputs": [
        {
          "output_type": "execute_result",
          "data": {
            "text/plain": [
              "3"
            ]
          },
          "metadata": {},
          "execution_count": 18
        }
      ]
    },
    {
      "cell_type": "code",
      "source": [
        " palabras=[i.split() for i in oracion]\n",
        " palabras"
      ],
      "metadata": {
        "colab": {
          "base_uri": "https://localhost:8080/"
        },
        "id": "uWo78Im8BfFS",
        "outputId": "f3204472-b41c-4c55-b998-461623a7acd3"
      },
      "execution_count": 20,
      "outputs": [
        {
          "output_type": "execute_result",
          "data": {
            "text/plain": [
              "[['Aquí', 'va', 'una', 'oración'],\n",
              " ['Aquí', 'va', 'otra', 'oración'],\n",
              " ['Aquí', 'va', 'la', 'tercera', 'oración']]"
            ]
          },
          "metadata": {},
          "execution_count": 20
        }
      ]
    },
    {
      "cell_type": "code",
      "source": [
        "len(palabras[2])"
      ],
      "metadata": {
        "colab": {
          "base_uri": "https://localhost:8080/"
        },
        "id": "cwnGVnXhCLPT",
        "outputId": "058ea828-9b59-4869-a713-cc4b865704a7"
      },
      "execution_count": 26,
      "outputs": [
        {
          "output_type": "execute_result",
          "data": {
            "text/plain": [
              "5"
            ]
          },
          "metadata": {},
          "execution_count": 26
        }
      ]
    },
    {
      "cell_type": "markdown",
      "source": [
        "##Indexación en listas\n",
        "*Recordar que python cuentas desde **0***\n",
        "\n",
        "\n",
        "```\n",
        "Lista=[Elemento1,Elemento2,Elemento3]\n",
        "Lista[0]=Elemento1\n",
        "Lista[3]=error fuera de rango\n",
        "```\n",
        "\n"
      ],
      "metadata": {
        "id": "--uVO_ttEWIh"
      }
    },
    {
      "cell_type": "code",
      "source": [
        "#Indexación negativa\n",
        "Lista_num=[1,2,3,4,5,6,7,8,9,10]\n",
        "Lista_num[-1]"
      ],
      "metadata": {
        "colab": {
          "base_uri": "https://localhost:8080/"
        },
        "id": "p5j5YID7FFIp",
        "outputId": "ef381540-9822-44ee-c831-773b79e35bee"
      },
      "execution_count": 27,
      "outputs": [
        {
          "output_type": "execute_result",
          "data": {
            "text/plain": [
              "10"
            ]
          },
          "metadata": {},
          "execution_count": 27
        }
      ]
    },
    {
      "cell_type": "code",
      "source": [
        "Lista_num[-2]"
      ],
      "metadata": {
        "colab": {
          "base_uri": "https://localhost:8080/"
        },
        "id": "9cq3dqa7FWch",
        "outputId": "228479eb-3225-4b7b-f0ee-530f38d5541d"
      },
      "execution_count": 28,
      "outputs": [
        {
          "output_type": "execute_result",
          "data": {
            "text/plain": [
              "9"
            ]
          },
          "metadata": {},
          "execution_count": 28
        }
      ]
    },
    {
      "cell_type": "code",
      "source": [
        "Lista_num[len(Lista_num)-1]"
      ],
      "metadata": {
        "colab": {
          "base_uri": "https://localhost:8080/"
        },
        "id": "jTGAhjgfFmiq",
        "outputId": "e1efff3d-43c3-4073-f95c-481e83023e59"
      },
      "execution_count": 29,
      "outputs": [
        {
          "output_type": "execute_result",
          "data": {
            "text/plain": [
              "10"
            ]
          },
          "metadata": {},
          "execution_count": 29
        }
      ]
    },
    {
      "cell_type": "code",
      "source": [
        "Lista_num[::]"
      ],
      "metadata": {
        "colab": {
          "base_uri": "https://localhost:8080/"
        },
        "id": "rSCLthzmGEeY",
        "outputId": "827df9ae-f8a5-433a-86b5-1b84cf2a231d"
      },
      "execution_count": 30,
      "outputs": [
        {
          "output_type": "execute_result",
          "data": {
            "text/plain": [
              "[1, 2, 3, 4, 5, 6, 7, 8, 9, 10]"
            ]
          },
          "metadata": {},
          "execution_count": 30
        }
      ]
    },
    {
      "cell_type": "code",
      "source": [
        "Lista_num[:2]"
      ],
      "metadata": {
        "colab": {
          "base_uri": "https://localhost:8080/"
        },
        "id": "hZ_XzbUQGKyg",
        "outputId": "9713ae0f-1739-4567-bddf-c8f6e72dfdd7"
      },
      "execution_count": 31,
      "outputs": [
        {
          "output_type": "execute_result",
          "data": {
            "text/plain": [
              "[1, 2]"
            ]
          },
          "metadata": {},
          "execution_count": 31
        }
      ]
    },
    {
      "cell_type": "code",
      "source": [
        "#2. Obtener los pares de Lista_num\n",
        "pares=[x for x in Lista_num if x%2==0]\n",
        "pares"
      ],
      "metadata": {
        "colab": {
          "base_uri": "https://localhost:8080/"
        },
        "id": "fKFb-6Z_Gd8J",
        "outputId": "e6c2bac7-dc8a-4f59-8ec9-a39ffafdcb56"
      },
      "execution_count": 32,
      "outputs": [
        {
          "output_type": "execute_result",
          "data": {
            "text/plain": [
              "[2, 4, 6, 8, 10]"
            ]
          },
          "metadata": {},
          "execution_count": 32
        }
      ]
    },
    {
      "cell_type": "code",
      "source": [
        "#3. Clasificar números en positivos y negativos\n",
        "numeros=[-1,2,-3,4,-5,6,-7,8,-9,10]\n",
        "clasificacion=[(\"positivo\",x) if x>=0 else (\"negativo\",x) for x in numeros]\n",
        "clasificacion"
      ],
      "metadata": {
        "colab": {
          "base_uri": "https://localhost:8080/"
        },
        "id": "B75hg86gHVrZ",
        "outputId": "29a259de-eeb9-4bc8-eaed-7b2d26f8a986"
      },
      "execution_count": 33,
      "outputs": [
        {
          "output_type": "execute_result",
          "data": {
            "text/plain": [
              "[('negativo', -1),\n",
              " ('positivo', 2),\n",
              " ('negativo', -3),\n",
              " ('positivo', 4),\n",
              " ('negativo', -5),\n",
              " ('positivo', 6),\n",
              " ('negativo', -7),\n",
              " ('positivo', 8),\n",
              " ('negativo', -9),\n",
              " ('positivo', 10)]"
            ]
          },
          "metadata": {},
          "execution_count": 33
        }
      ]
    }
  ]
}