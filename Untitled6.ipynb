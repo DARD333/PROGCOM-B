{
  "nbformat": 4,
  "nbformat_minor": 0,
  "metadata": {
    "colab": {
      "provenance": []
    },
    "kernelspec": {
      "name": "python3",
      "display_name": "Python 3"
    },
    "language_info": {
      "name": "python"
    }
  },
  "cells": [
    {
      "cell_type": "code",
      "source": [
        "#1 es divisible entre 4\n",
        "#2 es divisivle entre 400 pero no entre 100\n",
        "año=int(input(\"introduzca un año:\"))\n",
        "if (año%4==0 and año%100!=0);\n",
        "  print(f\"{año} es un año bisiesto\")\n",
        "else:\n",
        "  if año%400==0\n",
        "    print(f\"{año} es un año bisiesto\")\n",
        "  else:\n",
        "    print(f\"{año} No es un año bisiesto\")"
      ],
      "metadata": {
        "id": "a2u7wlDARbNL"
      },
      "execution_count": null,
      "outputs": []
    },
    {
      "cell_type": "markdown",
      "source": [
        "#Estructura de repeticion\n",
        "se emplean cuando quiero evaluar una condicion. el resultado de la evaluacion de esta codicion siempre se da en booleano (v o f )"
      ],
      "metadata": {
        "id": "XZVCPFvuS9SL"
      }
    },
    {
      "cell_type": "markdown",
      "source": [
        "# estuctura if-else\n",
        "\n",
        "if (codicion):\n",
        "  dentro aqui, si la conicion dio V\n",
        "\n",
        "else:\n",
        "  dentro aqui, si la codicion = F"
      ],
      "metadata": {
        "id": "LgLE82wrTFXq"
      }
    },
    {
      "cell_type": "markdown",
      "source": [
        "#Estrutura de decicion miltiple if-elif-else\n",
        "se emplea cuando hay mas de una decicion\n",
        "\n",
        "\n",
        "\n",
        "if (cond1):\n",
        "  si cold1 es verdadero, entroaqui\n",
        "elif (cond2):\n",
        "  si cold1 es falso, Pero cond2 es verdadero, entero aqui\n",
        "elif (cond3):\n",
        "  si cold1 y conl2 son falsos, PERO cond3 es verdadero, dentro aqui\n",
        "else: si cond1 y cond2 y cond3 y cond n son falsa, entrara aqui"
      ],
      "metadata": {
        "id": "8z87Od8LSiEj"
      }
    },
    {
      "cell_type": "markdown",
      "source": [
        "##Operacion terniario\n",
        "progamar una estructua de seleccio para porgamar solo una linea de codigo\n",
        "\n",
        "\n",
        "\n",
        "```\n",
        "(lo que se ejecuta, si la condicion es verdadera) if (codicion) else (lo que es debe ejecutar, si la condicion es falsa"
      ],
      "metadata": {
        "id": "AHnORSpdX3yW"
      }
    },
    {
      "cell_type": "code",
      "source": [
        "if (año%4==0 and año%100!=0):\n",
        "  print(f\"{año} es un año bisiesto\")\n",
        "elif año%400==9:\n",
        "  print(f\"{año} es un año bisiesto\")\n",
        "else:\n",
        "  print(f\"{año} NO es un año bisiesto\")"
      ],
      "metadata": {
        "id": "p7WQJElNX-ql"
      },
      "execution_count": null,
      "outputs": []
    },
    {
      "cell_type": "code",
      "source": [
        "##Escriba si la persona es mayor de edad\n",
        "num=int(input (\"ingrese la edad de la persona \"))\n",
        "if num > 0:\n",
        "  print(f\"segun Colombia eres mayor de edad\")\n",
        "else:\n",
        "  print(f\"segun Colombia eres menor de edad\")"
      ],
      "metadata": {
        "id": "y92FNI0GfG1Y"
      },
      "execution_count": null,
      "outputs": []
    },
    {
      "cell_type": "code",
      "source": [
        "##Escriba si la persona es mayor de edad\n",
        "num=int(input (\"ingrese la edad de la persona \"))\n",
        "if num > 18:\n",
        "  print(f\"segun Colombia eres mayor de edad \")\n",
        "elif num == 18:\n",
        "  print(f\"{num} segun Colombia eres mayor de edad\")\n",
        "else :\n",
        "  print(f\"segun Colombia eres menor de edad\")"
      ],
      "metadata": {
        "id": "aEsSqXs8fIFs"
      },
      "execution_count": null,
      "outputs": []
    },
    {
      "cell_type": "code",
      "source": [
        "##Saber cual de los 2 es mayor\n",
        "num=int(input (\"ingrese un numero \"))\n",
        "num2=int(input (\"ingrese un numero \"))\n",
        "if num > num2:\n",
        "  print(f\"el munero mayor es\", num )\n",
        "else:\n",
        "  print(f\"el numero mayor es\", num2)"
      ],
      "metadata": {
        "id": "z4BGBI-AfVqA"
      },
      "execution_count": null,
      "outputs": []
    },
    {
      "cell_type": "code",
      "source": [
        "##Saber cual de los 2 es mayor\n",
        "num=int(input (\"ingrese un numero \"))\n",
        "num2=int(input (\"ingrese un numero \"))\n",
        "if num > num2:\n",
        "  print(f\"el munero mayor es\", num )\n",
        "elif num2 > num:\n",
        "  print(f\"el munero mayor es\", num2 )\n",
        "else:\n",
        "  print(\"Ambos hermanos tienen la misma edad.\")"
      ],
      "metadata": {
        "id": "shvSVp_qfZv4"
      },
      "execution_count": null,
      "outputs": []
    }
  ]
}